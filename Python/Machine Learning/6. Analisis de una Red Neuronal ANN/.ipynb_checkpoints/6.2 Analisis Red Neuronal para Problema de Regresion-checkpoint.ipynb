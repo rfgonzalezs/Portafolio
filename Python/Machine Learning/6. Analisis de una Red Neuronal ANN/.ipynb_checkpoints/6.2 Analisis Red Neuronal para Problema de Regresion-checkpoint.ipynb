{
 "cells": [
  {
   "cell_type": "code",
   "execution_count": 1,
   "id": "5797d745",
   "metadata": {},
   "outputs": [],
   "source": [
    "import numpy as np\n",
    "import pandas as pd\n",
    "import matplotlib as mpl\n",
    "import matplotlib.pyplot as plt\n",
    "# Librerias de Red Neuronal\n",
    "import tensorflow as tf\n",
    "from tensorflow import keras\n",
    "# importando datos\n",
    "from sklearn.datasets import fetch_california_housing\n",
    "# clasificacion de datos\n",
    "from sklearn.model_selection import train_test_split\n",
    "from sklearn.preprocessing import StandardScaler"
   ]
  },
  {
   "cell_type": "code",
   "execution_count": 2,
   "id": "00337f85",
   "metadata": {},
   "outputs": [],
   "source": [
    "housing = fetch_california_housing()"
   ]
  },
  {
   "cell_type": "markdown",
   "id": "c1abf71b",
   "metadata": {},
   "source": [
    "Informacion:\n",
    "\n",
    "https://scikit-learn.org/stable/modules/generated/sklearn.datasets.fetch_california_housing.html#"
   ]
  },
  {
   "cell_type": "code",
   "execution_count": 3,
   "id": "2e7ee073",
   "metadata": {},
   "outputs": [
    {
     "name": "stdout",
     "output_type": "stream",
     "text": [
      "['MedInc', 'HouseAge', 'AveRooms', 'AveBedrms', 'Population', 'AveOccup', 'Latitude', 'Longitude']\n"
     ]
    }
   ],
   "source": [
    "print(housing.feature_names)"
   ]
  },
  {
   "cell_type": "code",
   "execution_count": 4,
   "id": "8118e96c",
   "metadata": {},
   "outputs": [],
   "source": [
    "X_train_full, X_test, y_train_full, y_test = train_test_split(housing.data, housing.target, random_state=42)\n",
    "X_train, X_valid, y_train, y_valid = train_test_split(X_train_full, y_train_full, random_state=42)"
   ]
  },
  {
   "cell_type": "code",
   "execution_count": 5,
   "id": "919783b4",
   "metadata": {},
   "outputs": [],
   "source": [
    "scaler  = StandardScaler()\n",
    "X_train = scaler.fit_transform(X_train)\n",
    "X_valid = scaler.transform(X_valid)\n",
    "X_test  = scaler.transform(X_test)"
   ]
  },
  {
   "cell_type": "code",
   "execution_count": 7,
   "id": "3988a162",
   "metadata": {},
   "outputs": [],
   "source": [
    "np.random.seed(42)\n",
    "tf.random.set_seed(42)"
   ]
  },
  {
   "cell_type": "code",
   "execution_count": 8,
   "id": "9b21e32d",
   "metadata": {},
   "outputs": [
    {
     "data": {
      "text/plain": [
       "(11610, 8)"
      ]
     },
     "execution_count": 8,
     "metadata": {},
     "output_type": "execute_result"
    }
   ],
   "source": [
    "X_train.shape"
   ]
  },
  {
   "cell_type": "code",
   "execution_count": 9,
   "id": "337810d9",
   "metadata": {},
   "outputs": [],
   "source": [
    "model = keras.models.Sequential([\n",
    "    keras.layers.Dense(30, activation='relu', input_shape=[8]),\n",
    "    keras.layers.Dense(30, activation='relu'),\n",
    "    keras.layers.Dense(1)\n",
    "])"
   ]
  },
  {
   "cell_type": "code",
   "execution_count": 14,
   "id": "2ec899d1",
   "metadata": {},
   "outputs": [
    {
     "name": "stdout",
     "output_type": "stream",
     "text": [
      "Model: \"sequential\"\n",
      "_________________________________________________________________\n",
      " Layer (type)                Output Shape              Param #   \n",
      "=================================================================\n",
      " dense (Dense)               (None, 30)                270       \n",
      "                                                                 \n",
      " dense_1 (Dense)             (None, 30)                930       \n",
      "                                                                 \n",
      " dense_2 (Dense)             (None, 1)                 31        \n",
      "                                                                 \n",
      "=================================================================\n",
      "Total params: 1,231\n",
      "Trainable params: 1,231\n",
      "Non-trainable params: 0\n",
      "_________________________________________________________________\n"
     ]
    }
   ],
   "source": [
    "model.summary()"
   ]
  },
  {
   "cell_type": "code",
   "execution_count": 13,
   "id": "5451ecd3",
   "metadata": {},
   "outputs": [],
   "source": [
    "model.compile(loss='mean_squared_error',\n",
    "              optimizer=keras.optimizers.SGD(learning_rate=1e-3),\n",
    "              metrics=['mae']\n",
    "             )"
   ]
  },
  {
   "cell_type": "code",
   "execution_count": 20,
   "id": "9c12628e",
   "metadata": {},
   "outputs": [
    {
     "name": "stdout",
     "output_type": "stream",
     "text": [
      "Epoch 1/20\n",
      "363/363 [==============================] - 1s 4ms/step - loss: 0.3898 - mae: 0.4433 - val_loss: 0.3978 - val_mae: 0.4329\n",
      "Epoch 2/20\n",
      "363/363 [==============================] - 2s 4ms/step - loss: 0.3874 - mae: 0.4414 - val_loss: 0.4443 - val_mae: 0.4387\n",
      "Epoch 3/20\n",
      "363/363 [==============================] - 1s 3ms/step - loss: 0.3854 - mae: 0.4411 - val_loss: 0.4194 - val_mae: 0.4312\n",
      "Epoch 4/20\n",
      "363/363 [==============================] - 1s 3ms/step - loss: 0.3826 - mae: 0.4386 - val_loss: 0.4155 - val_mae: 0.4361\n",
      "Epoch 5/20\n",
      "363/363 [==============================] - 1s 3ms/step - loss: 0.3812 - mae: 0.4378 - val_loss: 0.3803 - val_mae: 0.4284\n",
      "Epoch 6/20\n",
      "363/363 [==============================] - 1s 3ms/step - loss: 0.3787 - mae: 0.4368 - val_loss: 0.4187 - val_mae: 0.4292\n",
      "Epoch 7/20\n",
      "363/363 [==============================] - 1s 3ms/step - loss: 0.3774 - mae: 0.4351 - val_loss: 0.3985 - val_mae: 0.4270\n",
      "Epoch 8/20\n",
      "363/363 [==============================] - 1s 3ms/step - loss: 0.3755 - mae: 0.4343 - val_loss: 0.3660 - val_mae: 0.4223\n",
      "Epoch 9/20\n",
      "363/363 [==============================] - 1s 3ms/step - loss: 0.3736 - mae: 0.4333 - val_loss: 0.3936 - val_mae: 0.4248\n",
      "Epoch 10/20\n",
      "363/363 [==============================] - 1s 3ms/step - loss: 0.3718 - mae: 0.4323 - val_loss: 0.3965 - val_mae: 0.4230\n",
      "Epoch 11/20\n",
      "363/363 [==============================] - 1s 3ms/step - loss: 0.3702 - mae: 0.4310 - val_loss: 0.3642 - val_mae: 0.4203\n",
      "Epoch 12/20\n",
      "363/363 [==============================] - 1s 3ms/step - loss: 0.3687 - mae: 0.4300 - val_loss: 0.4113 - val_mae: 0.4235\n",
      "Epoch 13/20\n",
      "363/363 [==============================] - 1s 3ms/step - loss: 0.3676 - mae: 0.4293 - val_loss: 0.3779 - val_mae: 0.4232\n",
      "Epoch 14/20\n",
      "363/363 [==============================] - 1s 3ms/step - loss: 0.3660 - mae: 0.4281 - val_loss: 0.3613 - val_mae: 0.4206\n",
      "Epoch 15/20\n",
      "363/363 [==============================] - 1s 3ms/step - loss: 0.3650 - mae: 0.4278 - val_loss: 0.3788 - val_mae: 0.4210\n",
      "Epoch 16/20\n",
      "363/363 [==============================] - 1s 3ms/step - loss: 0.3638 - mae: 0.4272 - val_loss: 0.3539 - val_mae: 0.4186\n",
      "Epoch 17/20\n",
      "363/363 [==============================] - 1s 3ms/step - loss: 0.3626 - mae: 0.4263 - val_loss: 0.4005 - val_mae: 0.4204\n",
      "Epoch 18/20\n",
      "363/363 [==============================] - 1s 3ms/step - loss: 0.3619 - mae: 0.4259 - val_loss: 0.3765 - val_mae: 0.4172\n",
      "Epoch 19/20\n",
      "363/363 [==============================] - 1s 3ms/step - loss: 0.3606 - mae: 0.4249 - val_loss: 0.3658 - val_mae: 0.4162\n",
      "Epoch 20/20\n",
      "363/363 [==============================] - 1s 3ms/step - loss: 0.3598 - mae: 0.4243 - val_loss: 0.4209 - val_mae: 0.4213\n"
     ]
    }
   ],
   "source": [
    "model_history = model.fit(X_train, y_train, epochs=40, \n",
    "                          validation_data=(X_valid, y_valid))"
   ]
  },
  {
   "cell_type": "code",
   "execution_count": 21,
   "id": "be4f976c",
   "metadata": {},
   "outputs": [
    {
     "name": "stdout",
     "output_type": "stream",
     "text": [
      "162/162 [==============================] - 0s 2ms/step - loss: 0.3615 - mae: 0.4250\n"
     ]
    }
   ],
   "source": [
    "mae_test = model.evaluate(X_test, y_test)"
   ]
  },
  {
   "cell_type": "code",
   "execution_count": 22,
   "id": "6bc1fe4a",
   "metadata": {},
   "outputs": [
    {
     "data": {
      "text/plain": [
       "{'loss': [0.3898053467273712,\n",
       "  0.3874152898788452,\n",
       "  0.3853810429573059,\n",
       "  0.3826400339603424,\n",
       "  0.3811720311641693,\n",
       "  0.3786640465259552,\n",
       "  0.3774365186691284,\n",
       "  0.3755159080028534,\n",
       "  0.37358954548835754,\n",
       "  0.3717530369758606,\n",
       "  0.37018725275993347,\n",
       "  0.3686564266681671,\n",
       "  0.367572546005249,\n",
       "  0.3660057783126831,\n",
       "  0.36496496200561523,\n",
       "  0.363820344209671,\n",
       "  0.3626251518726349,\n",
       "  0.3618927001953125,\n",
       "  0.36057740449905396,\n",
       "  0.3597814738750458],\n",
       " 'mae': [0.44328969717025757,\n",
       "  0.44139134883880615,\n",
       "  0.4411434233188629,\n",
       "  0.4386335611343384,\n",
       "  0.43782517313957214,\n",
       "  0.4367859661579132,\n",
       "  0.4351237118244171,\n",
       "  0.4343062937259674,\n",
       "  0.4332500696182251,\n",
       "  0.4323197305202484,\n",
       "  0.43099445104599,\n",
       "  0.43003496527671814,\n",
       "  0.42933231592178345,\n",
       "  0.42811211943626404,\n",
       "  0.42784690856933594,\n",
       "  0.42719635367393494,\n",
       "  0.42631906270980835,\n",
       "  0.4258972406387329,\n",
       "  0.42492130398750305,\n",
       "  0.42431437969207764],\n",
       " 'val_loss': [0.3977949023246765,\n",
       "  0.44426339864730835,\n",
       "  0.4193873703479767,\n",
       "  0.4155065715312958,\n",
       "  0.38031747937202454,\n",
       "  0.4187447726726532,\n",
       "  0.39845630526542664,\n",
       "  0.3660087287425995,\n",
       "  0.3935871124267578,\n",
       "  0.39654844999313354,\n",
       "  0.3642491102218628,\n",
       "  0.41129040718078613,\n",
       "  0.37790772318840027,\n",
       "  0.3612574338912964,\n",
       "  0.37877702713012695,\n",
       "  0.3538513779640198,\n",
       "  0.40049219131469727,\n",
       "  0.3764704167842865,\n",
       "  0.36583438515663147,\n",
       "  0.4209202229976654],\n",
       " 'val_mae': [0.43285873532295227,\n",
       "  0.43874314427375793,\n",
       "  0.4311554431915283,\n",
       "  0.4361475110054016,\n",
       "  0.4284059405326843,\n",
       "  0.42924538254737854,\n",
       "  0.42701441049575806,\n",
       "  0.4223117530345917,\n",
       "  0.4247780442237854,\n",
       "  0.42299169301986694,\n",
       "  0.4202778935432434,\n",
       "  0.423490971326828,\n",
       "  0.4232253134250641,\n",
       "  0.42057743668556213,\n",
       "  0.42098963260650635,\n",
       "  0.41859471797943115,\n",
       "  0.42042696475982666,\n",
       "  0.41718143224716187,\n",
       "  0.41620904207229614,\n",
       "  0.4213184118270874]}"
      ]
     },
     "execution_count": 22,
     "metadata": {},
     "output_type": "execute_result"
    }
   ],
   "source": [
    "model_history.history"
   ]
  },
  {
   "cell_type": "code",
   "execution_count": 23,
   "id": "817f621e",
   "metadata": {},
   "outputs": [
    {
     "data": {
      "image/png": "[encoded data removed]",
      "text/plain": [
       "<Figure size 800x500 with 1 Axes>"
      ]
     },
     "metadata": {},
     "output_type": "display_data"
    }
   ],
   "source": [
    "pd.DataFrame(model_history.history).plot(figsize=(8,5))\n",
    "plt.grid(True)\n",
    "plt.gca().set_ylim(0,1)\n",
    "plt.show()"
   ]
  },
  {
   "cell_type": "code",
   "execution_count": 24,
   "id": "9a45e812",
   "metadata": {},
   "outputs": [],
   "source": [
    "X_new = X_test[:3]"
   ]
  },
  {
   "cell_type": "code",
   "execution_count": 25,
   "id": "b8653d58",
   "metadata": {},
   "outputs": [
    {
     "name": "stdout",
     "output_type": "stream",
     "text": [
      "1/1 [==============================] - 0s 238ms/step\n",
      "[[0.750714 ]\n",
      " [1.8701973]\n",
      " [4.0661507]]\n"
     ]
    }
   ],
   "source": [
    "y_pred =model.predict(X_new)\n",
    "print(y_pred)"
   ]
  },
  {
   "cell_type": "code",
   "execution_count": 26,
   "id": "246e3b63",
   "metadata": {},
   "outputs": [
    {
     "name": "stdout",
     "output_type": "stream",
     "text": [
      "[0.477   0.458   5.00001]\n"
     ]
    }
   ],
   "source": [
    "print(y_test[:3])"
   ]
  },
  {
   "cell_type": "code",
   "execution_count": 27,
   "id": "f229d8e7",
   "metadata": {},
   "outputs": [],
   "source": [
    "del model"
   ]
  },
  {
   "cell_type": "code",
   "execution_count": 28,
   "id": "e22831e4",
   "metadata": {},
   "outputs": [],
   "source": [
    "keras.backend.clear_session()"
   ]
  },
  {
   "cell_type": "markdown",
   "id": "963ccaef",
   "metadata": {},
   "source": [
    "## API Funcional"
   ]
  },
  {
   "cell_type": "code",
   "execution_count": 29,
   "id": "0dda845a",
   "metadata": {},
   "outputs": [],
   "source": [
    "input_  = keras.layers.Input(shape=X_train.shape[1])\n",
    "hidden1 = keras.layers.Dense(30, activation='relu')(input_)\n",
    "hidden2 = keras.layers.Dense(30, activation='relu')(hidden1)\n",
    "concat  = keras.layers.concatenate([input_, hidden2])\n",
    "output  = keras.layers.Dense(1)(concat)\n",
    "model   = keras.models.Model(inputs=[input_],outputs=[output])"
   ]
  },
  {
   "cell_type": "code",
   "execution_count": 30,
   "id": "5785b5f8",
   "metadata": {},
   "outputs": [
    {
     "name": "stdout",
     "output_type": "stream",
     "text": [
      "Model: \"model\"\n",
      "__________________________________________________________________________________________________\n",
      " Layer (type)                   Output Shape         Param #     Connected to                     \n",
      "==================================================================================================\n",
      " input_1 (InputLayer)           [(None, 8)]          0           []                               \n",
      "                                                                                                  \n",
      " dense (Dense)                  (None, 30)           270         ['input_1[0][0]']                \n",
      "                                                                                                  \n",
      " dense_1 (Dense)                (None, 30)           930         ['dense[0][0]']                  \n",
      "                                                                                                  \n",
      " concatenate (Concatenate)      (None, 38)           0           ['input_1[0][0]',                \n",
      "                                                                  'dense_1[0][0]']                \n",
      "                                                                                                  \n",
      " dense_2 (Dense)                (None, 1)            39          ['concatenate[0][0]']            \n",
      "                                                                                                  \n",
      "==================================================================================================\n",
      "Total params: 1,239\n",
      "Trainable params: 1,239\n",
      "Non-trainable params: 0\n",
      "__________________________________________________________________________________________________\n"
     ]
    }
   ],
   "source": [
    "model.summary()"
   ]
  },
  {
   "cell_type": "code",
   "execution_count": 32,
   "id": "63afe615",
   "metadata": {},
   "outputs": [],
   "source": [
    "model.compile(loss='mean_squared_error',\n",
    "              optimizer=keras.optimizers.SGD(learning_rate=1e-3),\n",
    "              metrics=['mae']\n",
    "             )"
   ]
  },
  {
   "cell_type": "code",
   "execution_count": 37,
   "id": "0692cda4",
   "metadata": {},
   "outputs": [
    {
     "name": "stdout",
     "output_type": "stream",
     "text": [
      "Epoch 1/20\n",
      "363/363 [==============================] - 2s 5ms/step - loss: 0.3925 - mae: 0.4492 - val_loss: 0.3741 - val_mae: 0.4326\n",
      "Epoch 2/20\n",
      "363/363 [==============================] - 2s 4ms/step - loss: 0.3894 - mae: 0.4472 - val_loss: 0.4877 - val_mae: 0.4420\n",
      "Epoch 3/20\n",
      "363/363 [==============================] - 1s 4ms/step - loss: 0.3875 - mae: 0.4465 - val_loss: 0.4175 - val_mae: 0.4330\n",
      "Epoch 4/20\n",
      "363/363 [==============================] - 1s 4ms/step - loss: 0.3849 - mae: 0.4442 - val_loss: 0.3919 - val_mae: 0.4339\n",
      "Epoch 5/20\n",
      "363/363 [==============================] - 2s 5ms/step - loss: 0.3830 - mae: 0.4430 - val_loss: 0.3676 - val_mae: 0.4283\n",
      "Epoch 6/20\n",
      "363/363 [==============================] - 1s 4ms/step - loss: 0.3806 - mae: 0.4419 - val_loss: 0.4474 - val_mae: 0.4313\n",
      "Epoch 7/20\n",
      "363/363 [==============================] - 2s 4ms/step - loss: 0.3793 - mae: 0.4403 - val_loss: 0.3837 - val_mae: 0.4278\n",
      "Epoch 8/20\n",
      "363/363 [==============================] - 2s 5ms/step - loss: 0.3773 - mae: 0.4390 - val_loss: 0.3535 - val_mae: 0.4232\n",
      "Epoch 9/20\n",
      "363/363 [==============================] - 2s 5ms/step - loss: 0.3754 - mae: 0.4381 - val_loss: 0.4089 - val_mae: 0.4262\n",
      "Epoch 10/20\n",
      "363/363 [==============================] - 1s 4ms/step - loss: 0.3739 - mae: 0.4369 - val_loss: 0.4103 - val_mae: 0.4254\n",
      "Epoch 11/20\n",
      "363/363 [==============================] - 2s 4ms/step - loss: 0.3725 - mae: 0.4355 - val_loss: 0.3461 - val_mae: 0.4191\n",
      "Epoch 12/20\n",
      "363/363 [==============================] - 2s 4ms/step - loss: 0.3707 - mae: 0.4345 - val_loss: 0.4783 - val_mae: 0.4269\n",
      "Epoch 13/20\n",
      "363/363 [==============================] - 2s 4ms/step - loss: 0.3700 - mae: 0.4335 - val_loss: 0.3648 - val_mae: 0.4232\n",
      "Epoch 14/20\n",
      "363/363 [==============================] - 2s 4ms/step - loss: 0.3681 - mae: 0.4323 - val_loss: 0.3469 - val_mae: 0.4199\n",
      "Epoch 15/20\n",
      "363/363 [==============================] - 1s 4ms/step - loss: 0.3668 - mae: 0.4317 - val_loss: 0.3808 - val_mae: 0.4218\n",
      "Epoch 16/20\n",
      "363/363 [==============================] - 1s 4ms/step - loss: 0.3657 - mae: 0.4309 - val_loss: 0.3418 - val_mae: 0.4173\n",
      "Epoch 17/20\n",
      "363/363 [==============================] - 1s 4ms/step - loss: 0.3642 - mae: 0.4299 - val_loss: 0.3895 - val_mae: 0.4198\n",
      "Epoch 18/20\n",
      "363/363 [==============================] - 1s 4ms/step - loss: 0.3634 - mae: 0.4291 - val_loss: 0.3633 - val_mae: 0.4165\n",
      "Epoch 19/20\n",
      "363/363 [==============================] - 1s 4ms/step - loss: 0.3620 - mae: 0.4279 - val_loss: 0.3495 - val_mae: 0.4149\n",
      "Epoch 20/20\n",
      "363/363 [==============================] - 1s 4ms/step - loss: 0.3607 - mae: 0.4270 - val_loss: 0.4744 - val_mae: 0.4238\n"
     ]
    }
   ],
   "source": [
    "model_history = model.fit(X_train, y_train, epochs=40, validation_data=(X_valid, y_valid))"
   ]
  },
  {
   "cell_type": "code",
   "execution_count": 40,
   "id": "d671f629",
   "metadata": {},
   "outputs": [
    {
     "name": "stdout",
     "output_type": "stream",
     "text": [
      "162/162 [==============================] - 1s 3ms/step - loss: 0.3592 - mae: 0.4265\n"
     ]
    }
   ],
   "source": [
    "mae_test =model.evaluate(X_test, y_test)"
   ]
  },
  {
   "cell_type": "code",
   "execution_count": 41,
   "id": "9dc3f590",
   "metadata": {},
   "outputs": [
    {
     "data": {
      "text/plain": [
       "{'loss': [0.39246225357055664,\n",
       "  0.38936397433280945,\n",
       "  0.38749977946281433,\n",
       "  0.3848666846752167,\n",
       "  0.3830210268497467,\n",
       "  0.38056644797325134,\n",
       "  0.3793239891529083,\n",
       "  0.37729886174201965,\n",
       "  0.37543314695358276,\n",
       "  0.3738676905632019,\n",
       "  0.3724905848503113,\n",
       "  0.3706561326980591,\n",
       "  0.36997294425964355,\n",
       "  0.36814484000205994,\n",
       "  0.36680659651756287,\n",
       "  0.3657243847846985,\n",
       "  0.364234060049057,\n",
       "  0.36339786648750305,\n",
       "  0.36199092864990234,\n",
       "  0.36074963212013245],\n",
       " 'mae': [0.4491766095161438,\n",
       "  0.4472029209136963,\n",
       "  0.44654610753059387,\n",
       "  0.4441530406475067,\n",
       "  0.4430306553840637,\n",
       "  0.44193413853645325,\n",
       "  0.44032928347587585,\n",
       "  0.4390389025211334,\n",
       "  0.4380902349948883,\n",
       "  0.43688467144966125,\n",
       "  0.4355430006980896,\n",
       "  0.4344765245914459,\n",
       "  0.43352293968200684,\n",
       "  0.4323335886001587,\n",
       "  0.4316690266132355,\n",
       "  0.43094807863235474,\n",
       "  0.429890513420105,\n",
       "  0.42905938625335693,\n",
       "  0.4279296398162842,\n",
       "  0.426978200674057],\n",
       " 'val_loss': [0.3741484582424164,\n",
       "  0.487667977809906,\n",
       "  0.41745755076408386,\n",
       "  0.39189544320106506,\n",
       "  0.3676353991031647,\n",
       "  0.4474427103996277,\n",
       "  0.38373711705207825,\n",
       "  0.3535395562648773,\n",
       "  0.4088868498802185,\n",
       "  0.41033506393432617,\n",
       "  0.3460746705532074,\n",
       "  0.4782548248767853,\n",
       "  0.364768385887146,\n",
       "  0.34687909483909607,\n",
       "  0.3808014690876007,\n",
       "  0.3418368399143219,\n",
       "  0.3895319700241089,\n",
       "  0.36326125264167786,\n",
       "  0.3495139181613922,\n",
       "  0.47437626123428345],\n",
       " 'val_mae': [0.43261435627937317,\n",
       "  0.44199803471565247,\n",
       "  0.4329525828361511,\n",
       "  0.4339279234409332,\n",
       "  0.42833155393600464,\n",
       "  0.43125593662261963,\n",
       "  0.4277792274951935,\n",
       "  0.4232027232646942,\n",
       "  0.42618653178215027,\n",
       "  0.42535868287086487,\n",
       "  0.41905882954597473,\n",
       "  0.4269164800643921,\n",
       "  0.4231545627117157,\n",
       "  0.41993433237075806,\n",
       "  0.421792596578598,\n",
       "  0.41730305552482605,\n",
       "  0.4197970926761627,\n",
       "  0.4165355861186981,\n",
       "  0.41488468647003174,\n",
       "  0.42383259534835815]}"
      ]
     },
     "execution_count": 41,
     "metadata": {},
     "output_type": "execute_result"
    }
   ],
   "source": [
    "model_history.history"
   ]
  },
  {
   "cell_type": "code",
   "execution_count": 42,
   "id": "18a70c23",
   "metadata": {},
   "outputs": [
    {
     "data": {
      "image/png": "[encoded data removed]",
      "text/plain": [
       "<Figure size 800x500 with 1 Axes>"
      ]
     },
     "metadata": {},
     "output_type": "display_data"
    }
   ],
   "source": [
    "pd.DataFrame(model_history.history).plot(figsize=(8,5))\n",
    "plt.grid(True)\n",
    "plt.gca().set_ylim(0,1)\n",
    "plt.show()"
   ]
  },
  {
   "cell_type": "markdown",
   "id": "eeaeae0a",
   "metadata": {},
   "source": [
    "## Guardando y Restaurando"
   ]
  },
  {
   "cell_type": "code",
   "execution_count": 45,
   "id": "54cd1d72",
   "metadata": {},
   "outputs": [],
   "source": [
    "model.save('my_func_model.h5')"
   ]
  },
  {
   "cell_type": "code",
   "execution_count": 46,
   "id": "57507e9c",
   "metadata": {},
   "outputs": [
    {
     "data": {
      "text/plain": [
       "'C:\\\\Users\\\\Raf\\\\Documents\\\\R\\\\Algoritmos hechos por mi\\\\6. Analisis de una Red Neuronal ANN'"
      ]
     },
     "execution_count": 46,
     "metadata": {},
     "output_type": "execute_result"
    }
   ],
   "source": [
    "%pwd"
   ]
  },
  {
   "cell_type": "code",
   "execution_count": 47,
   "id": "8591975f",
   "metadata": {},
   "outputs": [],
   "source": [
    "del model"
   ]
  },
  {
   "cell_type": "code",
   "execution_count": 48,
   "id": "ff3d9fe5",
   "metadata": {},
   "outputs": [],
   "source": [
    "keras.backend.clear_session()"
   ]
  },
  {
   "cell_type": "code",
   "execution_count": 50,
   "id": "b1607cf6",
   "metadata": {},
   "outputs": [],
   "source": [
    "model = keras.models.load_model('my_func_model.h5')"
   ]
  },
  {
   "cell_type": "code",
   "execution_count": 51,
   "id": "b27a1178",
   "metadata": {},
   "outputs": [
    {
     "name": "stdout",
     "output_type": "stream",
     "text": [
      "Model: \"model\"\n",
      "__________________________________________________________________________________________________\n",
      " Layer (type)                   Output Shape         Param #     Connected to                     \n",
      "==================================================================================================\n",
      " input_1 (InputLayer)           [(None, 8)]          0           []                               \n",
      "                                                                                                  \n",
      " dense (Dense)                  (None, 30)           270         ['input_1[0][0]']                \n",
      "                                                                                                  \n",
      " dense_1 (Dense)                (None, 30)           930         ['dense[0][0]']                  \n",
      "                                                                                                  \n",
      " concatenate (Concatenate)      (None, 38)           0           ['input_1[0][0]',                \n",
      "                                                                  'dense_1[0][0]']                \n",
      "                                                                                                  \n",
      " dense_2 (Dense)                (None, 1)            39          ['concatenate[0][0]']            \n",
      "                                                                                                  \n",
      "==================================================================================================\n",
      "Total params: 1,239\n",
      "Trainable params: 1,239\n",
      "Non-trainable params: 0\n",
      "__________________________________________________________________________________________________\n"
     ]
    }
   ],
   "source": [
    "model.summary()"
   ]
  },
  {
   "cell_type": "code",
   "execution_count": 52,
   "id": "e0ee5fd8",
   "metadata": {},
   "outputs": [
    {
     "name": "stdout",
     "output_type": "stream",
     "text": [
      "1/1 [==============================] - 0s 134ms/step\n",
      "[[0.7130532]\n",
      " [1.8710146]\n",
      " [3.8208122]]\n"
     ]
    }
   ],
   "source": [
    "y_pred = model.predict(X_new)\n",
    "print(y_pred)"
   ]
  },
  {
   "cell_type": "markdown",
   "id": "f18d3cff",
   "metadata": {},
   "source": [
    "## Usando puntos de control durante el entrenamiento"
   ]
  },
  {
   "cell_type": "code",
   "execution_count": 53,
   "id": "406bd13e",
   "metadata": {},
   "outputs": [],
   "source": [
    "del model\n",
    "keras.backend.clear_session()"
   ]
  },
  {
   "cell_type": "code",
   "execution_count": 54,
   "id": "3b0ae020",
   "metadata": {},
   "outputs": [],
   "source": [
    "np.random.seed(42)\n",
    "tf.random.set_seed(42)"
   ]
  },
  {
   "cell_type": "code",
   "execution_count": 55,
   "id": "cb8fcbf0",
   "metadata": {},
   "outputs": [],
   "source": [
    "model = keras.models.Sequential([\n",
    "    keras.layers.Dense(30, activation='relu', input_shape=[8]),\n",
    "    keras.layers.Dense(30, activation='relu'),\n",
    "    keras.layers.Dense(1)\n",
    "])"
   ]
  },
  {
   "cell_type": "code",
   "execution_count": 56,
   "id": "e5641998",
   "metadata": {},
   "outputs": [],
   "source": [
    "model.compile(loss='mse',\n",
    "              optimizer=keras.optimizers.SGD(learning_rate=1e-3),\n",
    "              metrics=['mae']\n",
    "             )"
   ]
  },
  {
   "cell_type": "code",
   "execution_count": 60,
   "id": "ac46464e",
   "metadata": {},
   "outputs": [],
   "source": [
    "checkpoint_cb = keras.callbacks.ModelCheckpoint('Model-{epoch:02d}.h5')"
   ]
  },
  {
   "cell_type": "code",
   "execution_count": 61,
   "id": "c12cb789",
   "metadata": {
    "scrolled": true
   },
   "outputs": [
    {
     "name": "stdout",
     "output_type": "stream",
     "text": [
      "Epoch 1/10\n",
      "363/363 [==============================] - 8s 23ms/step - loss: 0.7793 - mae: 0.6591 - val_loss: 0.7422 - val_mae: 0.6229\n",
      "Epoch 2/10\n",
      "363/363 [==============================] - 2s 5ms/step - loss: 0.6896 - mae: 0.6094 - val_loss: 0.6778 - val_mae: 0.5886\n",
      "Epoch 3/10\n",
      "363/363 [==============================] - 1s 3ms/step - loss: 0.6349 - mae: 0.5812 - val_loss: 0.6202 - val_mae: 0.5598\n",
      "Epoch 4/10\n",
      "363/363 [==============================] - 1s 3ms/step - loss: 0.5929 - mae: 0.5599 - val_loss: 0.6186 - val_mae: 0.5497\n",
      "Epoch 5/10\n",
      "363/363 [==============================] - 1s 3ms/step - loss: 0.5612 - mae: 0.5424 - val_loss: 0.5539 - val_mae: 0.5250\n",
      "Epoch 6/10\n",
      "363/363 [==============================] - 1s 3ms/step - loss: 0.5324 - mae: 0.5283 - val_loss: 0.5456 - val_mae: 0.5143\n",
      "Epoch 7/10\n",
      "363/363 [==============================] - 1s 4ms/step - loss: 0.5097 - mae: 0.5153 - val_loss: 0.5049 - val_mae: 0.4999\n",
      "Epoch 8/10\n",
      "363/363 [==============================] - 1s 3ms/step - loss: 0.4902 - mae: 0.5050 - val_loss: 0.4856 - val_mae: 0.4883\n",
      "Epoch 9/10\n",
      "363/363 [==============================] - 1s 4ms/step - loss: 0.4739 - mae: 0.4962 - val_loss: 0.4855 - val_mae: 0.4827\n",
      "Epoch 10/10\n",
      "363/363 [==============================] - 1s 4ms/step - loss: 0.4604 - mae: 0.4890 - val_loss: 0.4718 - val_mae: 0.4729\n"
     ]
    }
   ],
   "source": [
    "history = model.fit(X_train, y_train, epochs=10, \n",
    "                    validation_data=(X_valid, y_valid),\n",
    "                    callbacks=[checkpoint_cb])"
   ]
  },
  {
   "cell_type": "code",
   "execution_count": 65,
   "id": "c96b784f",
   "metadata": {},
   "outputs": [],
   "source": [
    "del model\n",
    "keras.backend.clear_session()"
   ]
  },
  {
   "cell_type": "code",
   "execution_count": 66,
   "id": "16679504",
   "metadata": {},
   "outputs": [],
   "source": [
    "model = keras.models.load_model('Model-10.h5')"
   ]
  },
  {
   "cell_type": "code",
   "execution_count": 67,
   "id": "4e7842e3",
   "metadata": {},
   "outputs": [
    {
     "name": "stdout",
     "output_type": "stream",
     "text": [
      "162/162 [==============================] - 1s 2ms/step - loss: 0.4477 - mae: 0.4769\n"
     ]
    }
   ],
   "source": [
    "mse_test = model.evaluate(X_test, y_test)"
   ]
  },
  {
   "cell_type": "markdown",
   "id": "db6d0702",
   "metadata": {},
   "source": [
    "### Usando solo el mejor modelo"
   ]
  },
  {
   "cell_type": "code",
   "execution_count": 76,
   "id": "f2ae7de8",
   "metadata": {},
   "outputs": [],
   "source": [
    "del model\n",
    "keras.backend.clear_session()"
   ]
  },
  {
   "cell_type": "code",
   "execution_count": 70,
   "id": "72a1a64e",
   "metadata": {},
   "outputs": [],
   "source": [
    "model = keras.models.Sequential([\n",
    "    keras.layers.Dense(30, activation='relu', input_shape=[8]),\n",
    "    keras.layers.Dense(30, activation='relu'),\n",
    "    keras.layers.Dense(1)\n",
    "])"
   ]
  },
  {
   "cell_type": "code",
   "execution_count": 71,
   "id": "d7e24418",
   "metadata": {},
   "outputs": [],
   "source": [
    "model.compile(loss='mse',\n",
    "              optimizer=keras.optimizers.SGD(learning_rate=1e-3),\n",
    "              metrics=['mae']\n",
    "             )"
   ]
  },
  {
   "cell_type": "code",
   "execution_count": 74,
   "id": "59faf2cd",
   "metadata": {},
   "outputs": [],
   "source": [
    "checkpoint_cb = keras.callbacks.ModelCheckpoint('Best_Model.h5', save_best_only=True)"
   ]
  },
  {
   "cell_type": "code",
   "execution_count": 75,
   "id": "bea58811",
   "metadata": {},
   "outputs": [
    {
     "name": "stdout",
     "output_type": "stream",
     "text": [
      "Epoch 1/10\n",
      "363/363 [==============================] - 1s 4ms/step - loss: 0.4726 - mae: 0.4944 - val_loss: 0.4325 - val_mae: 0.4722\n",
      "Epoch 2/10\n",
      "363/363 [==============================] - 2s 5ms/step - loss: 0.4613 - mae: 0.4879 - val_loss: 0.4243 - val_mae: 0.4713\n",
      "Epoch 3/10\n",
      "363/363 [==============================] - 2s 4ms/step - loss: 0.4515 - mae: 0.4833 - val_loss: 0.4162 - val_mae: 0.4614\n",
      "Epoch 4/10\n",
      "363/363 [==============================] - 1s 4ms/step - loss: 0.4427 - mae: 0.4781 - val_loss: 0.4076 - val_mae: 0.4611\n",
      "Epoch 5/10\n",
      "363/363 [==============================] - 2s 5ms/step - loss: 0.4353 - mae: 0.4737 - val_loss: 0.4021 - val_mae: 0.4550\n",
      "Epoch 6/10\n",
      "363/363 [==============================] - 2s 5ms/step - loss: 0.4282 - mae: 0.4704 - val_loss: 0.3952 - val_mae: 0.4503\n",
      "Epoch 7/10\n",
      "363/363 [==============================] - 2s 5ms/step - loss: 0.4224 - mae: 0.4667 - val_loss: 0.3897 - val_mae: 0.4476\n",
      "Epoch 8/10\n",
      "363/363 [==============================] - 1s 4ms/step - loss: 0.4172 - mae: 0.4636 - val_loss: 0.3870 - val_mae: 0.4448\n",
      "Epoch 9/10\n",
      "363/363 [==============================] - 2s 4ms/step - loss: 0.4122 - mae: 0.4613 - val_loss: 0.3817 - val_mae: 0.4406\n",
      "Epoch 10/10\n",
      "363/363 [==============================] - 2s 5ms/step - loss: 0.4078 - mae: 0.4583 - val_loss: 0.3783 - val_mae: 0.4381\n"
     ]
    }
   ],
   "source": [
    "history = model.fit(X_train, y_train, epochs=10, \n",
    "                    validation_data=(X_valid, y_valid),\n",
    "                    callbacks=[checkpoint_cb])"
   ]
  },
  {
   "cell_type": "code",
   "execution_count": 77,
   "id": "d08b6702",
   "metadata": {},
   "outputs": [
    {
     "name": "stdout",
     "output_type": "stream",
     "text": [
      "162/162 [==============================] - 1s 2ms/step - loss: 0.3991 - mae: 0.4523\n"
     ]
    }
   ],
   "source": [
    "model = keras.models.load_model('Best_Model.h5')\n",
    "mse_test = model.evaluate(X_test, y_test)"
   ]
  },
  {
   "cell_type": "markdown",
   "id": "04caf252",
   "metadata": {},
   "source": [
    "### Solo el mejor modelo (parada anticipada)"
   ]
  },
  {
   "cell_type": "code",
   "execution_count": 86,
   "id": "9caa0457",
   "metadata": {},
   "outputs": [],
   "source": [
    "del model\n",
    "keras.backend.clear_session()"
   ]
  },
  {
   "cell_type": "code",
   "execution_count": 87,
   "id": "479c610b",
   "metadata": {},
   "outputs": [],
   "source": [
    "model = keras.models.Sequential([\n",
    "    keras.layers.Dense(30, activation='relu', input_shape=[8]),\n",
    "    keras.layers.Dense(30, activation='relu'),\n",
    "    keras.layers.Dense(1)\n",
    "])"
   ]
  },
  {
   "cell_type": "code",
   "execution_count": 88,
   "id": "f710ee5b",
   "metadata": {},
   "outputs": [],
   "source": [
    "model.compile(loss='mse',\n",
    "              optimizer=keras.optimizers.SGD(learning_rate=1e-3),\n",
    "              metrics=['mae']\n",
    "             )"
   ]
  },
  {
   "cell_type": "code",
   "execution_count": 89,
   "id": "871a4206",
   "metadata": {},
   "outputs": [],
   "source": [
    "checkpoint_cb = keras.callbacks.ModelCheckpoint('Early_stop_model.h5', save_best_only=True)"
   ]
  },
  {
   "cell_type": "code",
   "execution_count": 90,
   "id": "18472f22",
   "metadata": {},
   "outputs": [],
   "source": [
    "early_stopping_cb = keras.callbacks.EarlyStopping(patience=10,\n",
    "                                                  restore_best_weights=True)\n",
    "\n",
    "# patience: Numero de epochs si no hay progreso en el puntaje de validacion"
   ]
  },
  {
   "cell_type": "code",
   "execution_count": 91,
   "id": "2e56a155",
   "metadata": {},
   "outputs": [
    {
     "name": "stdout",
     "output_type": "stream",
     "text": [
      "Epoch 1/100\n",
      "363/363 [==============================] - 2s 4ms/step - loss: 2.5760 - mae: 1.1874 - val_loss: 1.0807 - val_mae: 0.7876\n",
      "Epoch 2/100\n",
      "363/363 [==============================] - 1s 4ms/step - loss: 0.8544 - mae: 0.7114 - val_loss: 0.8719 - val_mae: 0.6553\n",
      "Epoch 3/100\n",
      "363/363 [==============================] - 1s 3ms/step - loss: 0.7012 - mae: 0.6321 - val_loss: 0.7536 - val_mae: 0.6003\n",
      "Epoch 4/100\n",
      "363/363 [==============================] - 1s 3ms/step - loss: 0.6386 - mae: 0.5946 - val_loss: 0.6062 - val_mae: 0.5717\n",
      "Epoch 5/100\n",
      "363/363 [==============================] - 1s 3ms/step - loss: 0.5938 - mae: 0.5704 - val_loss: 0.5536 - val_mae: 0.5442\n",
      "Epoch 6/100\n",
      "363/363 [==============================] - 1s 3ms/step - loss: 0.5586 - mae: 0.5515 - val_loss: 0.5254 - val_mae: 0.5269\n",
      "Epoch 7/100\n",
      "363/363 [==============================] - 1s 3ms/step - loss: 0.5311 - mae: 0.5353 - val_loss: 0.5048 - val_mae: 0.5128\n",
      "Epoch 8/100\n",
      "363/363 [==============================] - 1s 4ms/step - loss: 0.5081 - mae: 0.5225 - val_loss: 0.4732 - val_mae: 0.4981\n",
      "Epoch 9/100\n",
      "363/363 [==============================] - 2s 4ms/step - loss: 0.4886 - mae: 0.5114 - val_loss: 0.4539 - val_mae: 0.4877\n",
      "Epoch 10/100\n",
      "363/363 [==============================] - 1s 4ms/step - loss: 0.4720 - mae: 0.5018 - val_loss: 0.4375 - val_mae: 0.4781\n",
      "Epoch 11/100\n",
      "363/363 [==============================] - 1s 3ms/step - loss: 0.4582 - mae: 0.4932 - val_loss: 0.4260 - val_mae: 0.4731\n",
      "Epoch 12/100\n",
      "363/363 [==============================] - 1s 3ms/step - loss: 0.4465 - mae: 0.4860 - val_loss: 0.4171 - val_mae: 0.4657\n",
      "Epoch 13/100\n",
      "363/363 [==============================] - 2s 6ms/step - loss: 0.4366 - mae: 0.4799 - val_loss: 0.4115 - val_mae: 0.4627\n",
      "Epoch 14/100\n",
      "363/363 [==============================] - 2s 6ms/step - loss: 0.4282 - mae: 0.4740 - val_loss: 0.4040 - val_mae: 0.4593\n",
      "Epoch 15/100\n",
      "363/363 [==============================] - 2s 5ms/step - loss: 0.4211 - mae: 0.4699 - val_loss: 0.4065 - val_mae: 0.4547\n",
      "Epoch 16/100\n",
      "363/363 [==============================] - 2s 5ms/step - loss: 0.4150 - mae: 0.4663 - val_loss: 0.3978 - val_mae: 0.4509\n",
      "Epoch 17/100\n",
      "363/363 [==============================] - 2s 5ms/step - loss: 0.4101 - mae: 0.4625 - val_loss: 0.3988 - val_mae: 0.4477\n",
      "Epoch 18/100\n",
      "363/363 [==============================] - 2s 5ms/step - loss: 0.4056 - mae: 0.4598 - val_loss: 0.3999 - val_mae: 0.4448\n",
      "Epoch 19/100\n",
      "363/363 [==============================] - 2s 6ms/step - loss: 0.4017 - mae: 0.4569 - val_loss: 0.3872 - val_mae: 0.4418\n",
      "Epoch 20/100\n",
      "363/363 [==============================] - 2s 5ms/step - loss: 0.3988 - mae: 0.4546 - val_loss: 0.4094 - val_mae: 0.4453\n",
      "Epoch 21/100\n",
      "363/363 [==============================] - 2s 4ms/step - loss: 0.3958 - mae: 0.4528 - val_loss: 0.4064 - val_mae: 0.4445\n",
      "Epoch 22/100\n",
      "363/363 [==============================] - 2s 5ms/step - loss: 0.3935 - mae: 0.4515 - val_loss: 0.4158 - val_mae: 0.4436\n",
      "Epoch 23/100\n",
      "363/363 [==============================] - 2s 5ms/step - loss: 0.3913 - mae: 0.4503 - val_loss: 0.3933 - val_mae: 0.4356\n",
      "Epoch 24/100\n",
      "363/363 [==============================] - 2s 4ms/step - loss: 0.3892 - mae: 0.4480 - val_loss: 0.4015 - val_mae: 0.4371\n",
      "Epoch 25/100\n",
      "363/363 [==============================] - 2s 4ms/step - loss: 0.3872 - mae: 0.4471 - val_loss: 0.4153 - val_mae: 0.4375\n",
      "Epoch 26/100\n",
      "363/363 [==============================] - 2s 5ms/step - loss: 0.3857 - mae: 0.4460 - val_loss: 0.4201 - val_mae: 0.4374\n",
      "Epoch 27/100\n",
      "363/363 [==============================] - 2s 5ms/step - loss: 0.3843 - mae: 0.4451 - val_loss: 0.3972 - val_mae: 0.4347\n",
      "Epoch 28/100\n",
      "363/363 [==============================] - 2s 5ms/step - loss: 0.3827 - mae: 0.4436 - val_loss: 0.4105 - val_mae: 0.4377\n",
      "Epoch 29/100\n",
      "363/363 [==============================] - 2s 6ms/step - loss: 0.3815 - mae: 0.4431 - val_loss: 0.4024 - val_mae: 0.4359\n"
     ]
    }
   ],
   "source": [
    "history = model.fit(X_train, y_train, epochs=100, \n",
    "                    validation_data=(X_valid, y_valid),\n",
    "                    callbacks=[checkpoint_cb, early_stopping_cb])"
   ]
  },
  {
   "cell_type": "code",
   "execution_count": 92,
   "id": "af6b7203",
   "metadata": {},
   "outputs": [
    {
     "name": "stdout",
     "output_type": "stream",
     "text": [
      "162/162 [==============================] - 1s 2ms/step - loss: 0.3970 - mae: 0.4537\n"
     ]
    }
   ],
   "source": [
    "model =keras.models.load_model('Early_stop_model.h5')\n",
    "mse_test =model.evaluate(X_test, y_test)"
   ]
  },
  {
   "cell_type": "code",
   "execution_count": null,
   "id": "e3365871",
   "metadata": {},
   "outputs": [],
   "source": []
  }
 ],
 "metadata": {
  "kernelspec": {
   "display_name": "Data Scientist env",
   "language": "python",
   "name": "venvdsc"
  },
  "language_info": {
   "codemirror_mode": {
    "name": "ipython",
    "version": 3
   },
   "file_extension": ".py",
   "mimetype": "text/x-python",
   "name": "python",
   "nbconvert_exporter": "python",
   "pygments_lexer": "ipython3",
   "version": "3.10.4"
  }
 },
 "nbformat": 4,
 "nbformat_minor": 5
}
