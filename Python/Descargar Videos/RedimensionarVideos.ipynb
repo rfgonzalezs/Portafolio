{
 "cells": [
  {
   "cell_type": "code",
   "execution_count": null,
   "id": "034cc15e",
   "metadata": {},
   "outputs": [],
   "source": [
    "#instalar e importar libreria\n",
    "import moviepy.editor as mp\n",
    "import pytube\n",
    "\n",
    "# https://zulko.github.io/moviepy"
   ]
  },
  {
   "cell_type": "markdown",
   "id": "84ebc95a",
   "metadata": {},
   "source": [
    "# Redimensionar Video"
   ]
  },
  {
   "cell_type": "code",
   "execution_count": null,
   "id": "84b8e127",
   "metadata": {},
   "outputs": [],
   "source": [
    "clip = mp.VideoFileClip(\"movie.mp4\")\n",
    "clip_resized = clip.resize(width=640,height=360) \n",
    "clip_resized.write_videofile(\"movie_resized.mp4\", codec = 'libx264')"
   ]
  },
  {
   "cell_type": "code",
   "execution_count": null,
   "id": "b1de9d50",
   "metadata": {},
   "outputs": [],
   "source": [
    "# Calidad de videos Xdiv \n",
    "# ancho 640\n",
    "# alto 360"
   ]
  },
  {
   "cell_type": "markdown",
   "id": "ec7e9cef",
   "metadata": {},
   "source": [
    "# Descargar Video"
   ]
  },
  {
   "cell_type": "code",
   "execution_count": null,
   "id": "6185fa3d",
   "metadata": {},
   "outputs": [],
   "source": [
    "\n",
    "#Ingresar URL del video\n",
    "url = input(\"Ingrese el URL del video: \")\n",
    "\n",
    "#Direccion en donde se va a guardar el video\n",
    "path = \"C:/Users/Raf/Downloads\"\n",
    "\n",
    "pytube.YouTube(url).streams.get_highest_resolution().download(path)\n"
   ]
  }
 ],
 "metadata": {
  "kernelspec": {
   "display_name": "Python 3 (ipykernel)",
   "language": "python",
   "name": "python3"
  },
  "language_info": {
   "codemirror_mode": {
    "name": "ipython",
    "version": 3
   },
   "file_extension": ".py",
   "mimetype": "text/x-python",
   "name": "python",
   "nbconvert_exporter": "python",
   "pygments_lexer": "ipython3",
   "version": "3.10.4"
  }
 },
 "nbformat": 4,
 "nbformat_minor": 5
}
