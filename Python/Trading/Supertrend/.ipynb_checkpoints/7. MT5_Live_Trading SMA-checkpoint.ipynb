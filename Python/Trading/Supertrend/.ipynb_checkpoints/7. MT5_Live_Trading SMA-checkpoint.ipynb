{
 "cells": [
  {
   "cell_type": "code",
   "execution_count": 1,
   "id": "021d25d0",
   "metadata": {},
   "outputs": [
    {
     "ename": "ModuleNotFoundError",
     "evalue": "No module named 'ClaseMT5_7'",
     "output_type": "error",
     "traceback": [
      "\u001b[1;31m---------------------------------------------------------------------------\u001b[0m",
      "\u001b[1;31mModuleNotFoundError\u001b[0m                       Traceback (most recent call last)",
      "Cell \u001b[1;32mIn [1], line 8\u001b[0m\n\u001b[0;32m      6\u001b[0m \u001b[38;5;28;01mimport\u001b[39;00m \u001b[38;5;21;01mMetaTrader5\u001b[39;00m \u001b[38;5;28;01mas\u001b[39;00m \u001b[38;5;21;01mmt5\u001b[39;00m\n\u001b[0;32m      7\u001b[0m warnings\u001b[38;5;241m.\u001b[39mfilterwarnings(\u001b[38;5;124m\"\u001b[39m\u001b[38;5;124mignore\u001b[39m\u001b[38;5;124m\"\u001b[39m)\n\u001b[1;32m----> 8\u001b[0m \u001b[38;5;28;01mfrom\u001b[39;00m \u001b[38;5;21;01mClaseMT5_7\u001b[39;00m \u001b[38;5;28;01mimport\u001b[39;00m \u001b[38;5;241m*\u001b[39m\n\u001b[0;32m      9\u001b[0m \u001b[38;5;28;01mimport\u001b[39;00m \u001b[38;5;21;01mtime\u001b[39;00m\n\u001b[0;32m     11\u001b[0m mt5\u001b[38;5;241m.\u001b[39minitialize()\n",
      "\u001b[1;31mModuleNotFoundError\u001b[0m: No module named 'ClaseMT5_7'"
     ]
    }
   ],
   "source": [
    "import ta\n",
    "import numpy as np\n",
    "import warnings\n",
    "from datetime import datetime\n",
    "import pandas as pd\n",
    "import MetaTrader5 as mt5\n",
    "warnings.filterwarnings(\"ignore\")\n",
    "from ClaseMT5_7 import *\n",
    "import time\n",
    "\n",
    "mt5.initialize()"
   ]
  },
  {
   "cell_type": "code",
   "execution_count": 3,
   "id": "adf62366-4a3e-470d-b689-54d3ec383b31",
   "metadata": {},
   "outputs": [
    {
     "name": "stdout",
     "output_type": "stream",
     "text": [
      "------------------------------------------------------------------\n",
      "Date:  2023-01-18 09:19:09\n",
      "Balance: 10000.0 USD, \tEquity: 10000.0 USD, \tProfit: 0.0 USD\n",
      "------------------------------------------------------------------\n"
     ]
    }
   ],
   "source": [
    "def SMA_strategy(symbol):\n",
    "    \n",
    "    # Import / Features engineering\n",
    "    df = MT5.get_data(symbol, 70)\n",
    "    \n",
    "    # Create Resistance using a rolling max\n",
    "    df[\"SMA fast\"] = df[\"close\"].rolling(30).mean()\n",
    "\n",
    "    # Create Support using a rolling min\n",
    "    df[\"SMA slow\"] = df[\"close\"].rolling(60).mean()\n",
    "\n",
    "\n",
    "    # Signals\n",
    "    condition_1_buy = df[\"SMA fast\"].iloc[-1] > df[\"SMA slow\"].iloc[-1]\n",
    "    \n",
    "    condition_1_sell = df[\"SMA fast\"].iloc[-1] < df[\"SMA slow\"].iloc[-1]\n",
    "    \n",
    "    buy = condition_1_buy\n",
    "    sell = condition_1_sell\n",
    "    \n",
    "\n",
    "    return buy, sell\n",
    "\n",
    "\n",
    "mt5.initialize()\n",
    "# True = Live Trading and False = Screener\n",
    "live = True\n",
    "\n",
    "if live:\n",
    "    current_account_info = mt5.account_info()\n",
    "    print(\"------------------------------------------------------------------\")\n",
    "    print(\"Date: \", datetime.now().strftime(\"%Y-%m-%d %H:%M:%S\"))\n",
    "    print(f\"Balance: {current_account_info.balance} USD, \\t\"\n",
    "          f\"Equity: {current_account_info.equity} USD, \\t\"\n",
    "          f\"Profit: {current_account_info.profit} USD\")\n",
    "    print(\"------------------------------------------------------------------\")\n",
    "\n",
    "\n",
    "info_order = {\n",
    "    \"Euro vs. u.s dollar\": [\"EURUSD\",0.01],\n",
    "    \"Australian dollar vs. u.s dollar\": [\"AUDUSD\",0.01]\n",
    "}"
   ]
  },
  {
   "cell_type": "code",
   "execution_count": 4,
   "id": "a301848d-9acd-4a41-a6da-37fc4dc15369",
   "metadata": {},
   "outputs": [
    {
     "name": "stdout",
     "output_type": "stream",
     "text": [
      "------------------------------------------------------------------\n",
      "Date:  2023-01-18 09:20:27\n",
      "SYMBOL: EURUSD\n",
      "BUY: True \t  SHORT: False\n",
      "POSITION: None \t ID: None\n",
      "OPEN LONG TRADE: Request executed\n",
      "------------------------------------------------------------------\n",
      "------------------------------------------------------------------\n",
      "Date:  2023-01-18 09:20:28\n",
      "SYMBOL: AUDUSD\n",
      "BUY: True \t  SHORT: False\n",
      "POSITION: None \t ID: None\n",
      "OPEN LONG TRADE: Request executed\n",
      "------------------------------------------------------------------\n"
     ]
    }
   ],
   "source": [
    "# Open the trades\n",
    "for asset in info_order.keys():\n",
    "\n",
    "    # Initialize the inputs\n",
    "    symbol = info_order[asset][0]\n",
    "    lot = info_order[asset][1]\n",
    "\n",
    "    # Create the signals\n",
    "    buy, sell = SMA_strategy(symbol)\n",
    "\n",
    "     # Run the algorithm\n",
    "    if live:\n",
    "        MT5.run(symbol, buy, sell,lot)\n",
    "\n",
    "    else:\n",
    "        print(f\"Symbol: {symbol}\\t\"\n",
    "             f\"Buy: {buy}\\t\"\n",
    "             f\"Sell: {sell}\")"
   ]
  },
  {
   "cell_type": "code",
   "execution_count": null,
   "id": "36b23b8b",
   "metadata": {},
   "outputs": [],
   "source": [
    "start = datetime.now().strftime(\"%H:%M:%S\") #\"23:59:59\"\n",
    "while True:\n",
    "    # Verfication for launch\n",
    "    if datetime.now().weekday() not in (5,6): # If you want to trade only from Monday to Friday\n",
    "        is_time = datetime.now().strftime(\"%H:%M:%S\") == start \n",
    "    else:\n",
    "        is_time = False\n",
    "\n",
    "    \n",
    "    # Launch the algorithm\n",
    "    if is_time:\n",
    "\n",
    "        # Open the trades\n",
    "        for asset in info_order.keys():\n",
    "\n",
    "            # Initialize the inputs\n",
    "            symbol = info_order[asset][0]\n",
    "            lot = info_order[asset][1]\n",
    "\n",
    "            # Create the signals\n",
    "            buy, sell = SMA_strategy(symbol)\n",
    "\n",
    "             # Run the algorithm\n",
    "            if live:\n",
    "                MT5.run(symbol, buy, sell,lot)\n",
    "\n",
    "            else:\n",
    "                print(f\"Symbol: {symbol}\\t\"\n",
    "                     f\"Buy: {buy}\\t\"\n",
    "                     f\"Sell: {sell}\")"
   ]
  }
 ],
 "metadata": {
  "kernelspec": {
   "display_name": "Data Scientist env",
   "language": "python",
   "name": "venvdsc"
  },
  "language_info": {
   "codemirror_mode": {
    "name": "ipython",
    "version": 3
   },
   "file_extension": ".py",
   "mimetype": "text/x-python",
   "name": "python",
   "nbconvert_exporter": "python",
   "pygments_lexer": "ipython3",
   "version": "3.10.4"
  }
 },
 "nbformat": 4,
 "nbformat_minor": 5
}
