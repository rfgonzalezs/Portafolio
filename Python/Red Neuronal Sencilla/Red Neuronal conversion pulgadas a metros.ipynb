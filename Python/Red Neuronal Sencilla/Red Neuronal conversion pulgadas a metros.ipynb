{
 "cells": [
  {
   "cell_type": "markdown",
   "id": "96b989c3",
   "metadata": {},
   "source": [
    "### Importamos librerias"
   ]
  },
  {
   "cell_type": "code",
   "execution_count": 1,
   "id": "c7c98ae4",
   "metadata": {},
   "outputs": [],
   "source": [
    "import tensorflow as tf\n",
    "import numpy as np\n",
    "import matplotlib.pyplot as plt"
   ]
  },
  {
   "cell_type": "markdown",
   "id": "9dea8a0b",
   "metadata": {},
   "source": [
    "### Declaramos eventos pasados"
   ]
  },
  {
   "cell_type": "code",
   "execution_count": 4,
   "id": "af21b154",
   "metadata": {},
   "outputs": [],
   "source": [
    "entrada = np.array([1, 6, 30, 7, 70, 43, 503, 201, 1005, 99], dtype = float)\n",
    "\n",
    "resultados = np.array([0.0254, 0.1524, 0.762, 0.1778, 1.778, 1.0922, 12.776, 5.1054, 25.527, 2.514], dtype = float)"
   ]
  },
  {
   "cell_type": "markdown",
   "id": "99a7f8c2",
   "metadata": {},
   "source": [
    "### Topografia de la red"
   ]
  },
  {
   "cell_type": "code",
   "execution_count": 6,
   "id": "a8881970",
   "metadata": {},
   "outputs": [],
   "source": [
    "capa1 = tf.keras.layers.Dense(units = 1, input_shape = [1])\n",
    "\n",
    "modelo = tf.keras.Sequential([capa1])"
   ]
  },
  {
   "cell_type": "markdown",
   "id": "8fc8928d",
   "metadata": {},
   "source": [
    "### Asignamos optimizador y metrica de perdida"
   ]
  },
  {
   "cell_type": "code",
   "execution_count": 11,
   "id": "9abd343d",
   "metadata": {},
   "outputs": [
    {
     "name": "stdout",
     "output_type": "stream",
     "text": [
      "Entrado la Red\n"
     ]
    }
   ],
   "source": [
    "modelo.compile(\n",
    "    optimizer = tf.keras.optimizers.Adam(0.1),\n",
    "    loss = \"mean_squared_error\" \n",
    ")\n",
    "print('Entrado la Red')"
   ]
  },
  {
   "cell_type": "markdown",
   "id": "f29433ce",
   "metadata": {},
   "source": [
    "### Entrenando la Red"
   ]
  },
  {
   "cell_type": "code",
   "execution_count": 13,
   "id": "d07d25d6",
   "metadata": {},
   "outputs": [],
   "source": [
    "entrenamiento = modelo.fit(entrada, resultados, epochs=500, verbose=False) #epochs =100"
   ]
  },
  {
   "cell_type": "markdown",
   "id": "dd27fbf5",
   "metadata": {},
   "source": [
    "### Guardar la Red"
   ]
  },
  {
   "cell_type": "code",
   "execution_count": 16,
   "id": "2471cd6c",
   "metadata": {},
   "outputs": [],
   "source": [
    "modelo.save('RedNeuronal.h5')\n",
    "\n",
    "modelo.save_weights('pesos.h5')"
   ]
  },
  {
   "cell_type": "markdown",
   "id": "d054b108",
   "metadata": {},
   "source": [
    "### Observar el comportamiento de la Red"
   ]
  },
  {
   "cell_type": "code",
   "execution_count": 17,
   "id": "fecc96c9",
   "metadata": {},
   "outputs": [
    {
     "data": {
      "image/png": "[encoded data removed]",
      "text/plain": [
       "<Figure size 432x288 with 1 Axes>"
      ]
     },
     "metadata": {
      "needs_background": "light"
     },
     "output_type": "display_data"
    }
   ],
   "source": [
    "plt.xlabel('Ciclos de Entrenamiento')\n",
    "plt.ylabel('Errores')\n",
    "plt.plot(entrenamiento.history['loss'])\n",
    "plt.show()"
   ]
  },
  {
   "cell_type": "markdown",
   "id": "52adc095",
   "metadata": {},
   "source": [
    "### Verificar que la Red se entreno"
   ]
  },
  {
   "cell_type": "code",
   "execution_count": 18,
   "id": "c1dfebf4",
   "metadata": {},
   "outputs": [
    {
     "name": "stdout",
     "output_type": "stream",
     "text": [
      "TERMINAMOS\n"
     ]
    }
   ],
   "source": [
    "print('TERMINAMOS')"
   ]
  },
  {
   "cell_type": "code",
   "execution_count": 19,
   "id": "22a2e447",
   "metadata": {},
   "outputs": [
    {
     "name": "stdout",
     "output_type": "stream",
     "text": [
      "Ingrese el valor en pulgadas: 822\n",
      "1/1 [==============================] - 1s 581ms/step\n",
      "El valor en metros es:  [[20.748253]]\n"
     ]
    }
   ],
   "source": [
    "i = float(input('Ingrese el valor en pulgadas: '))   #822   20.8788\n",
    "prediccion = modelo.predict([i])\n",
    "print('El valor en metros es: ', str(prediccion))"
   ]
  },
  {
   "cell_type": "code",
   "execution_count": null,
   "id": "4d4a16cd",
   "metadata": {},
   "outputs": [],
   "source": []
  }
 ],
 "metadata": {
  "kernelspec": {
   "display_name": "Python 3 (ipykernel)",
   "language": "python",
   "name": "python3"
  },
  "language_info": {
   "codemirror_mode": {
    "name": "ipython",
    "version": 3
   },
   "file_extension": ".py",
   "mimetype": "text/x-python",
   "name": "python",
   "nbconvert_exporter": "python",
   "pygments_lexer": "ipython3",
   "version": "3.10.4"
  }
 },
 "nbformat": 4,
 "nbformat_minor": 5
}
